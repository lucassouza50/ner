{
 "cells": [
  {
   "cell_type": "code",
   "execution_count": 1,
   "id": "3af47cda-413d-4282-b5b0-2b9c573b3fac",
   "metadata": {},
   "outputs": [
    {
     "name": "stderr",
     "output_type": "stream",
     "text": [
      "2024-05-08 13:16:25.067055: I external/local_tsl/tsl/cuda/cudart_stub.cc:32] Could not find cuda drivers on your machine, GPU will not be used.\n",
      "2024-05-08 13:16:25.070756: I external/local_tsl/tsl/cuda/cudart_stub.cc:32] Could not find cuda drivers on your machine, GPU will not be used.\n",
      "2024-05-08 13:16:25.118566: I tensorflow/core/platform/cpu_feature_guard.cc:210] This TensorFlow binary is optimized to use available CPU instructions in performance-critical operations.\n",
      "To enable the following instructions: AVX2 FMA, in other operations, rebuild TensorFlow with the appropriate compiler flags.\n",
      "2024-05-08 13:16:26.594380: W tensorflow/compiler/tf2tensorrt/utils/py_utils.cc:38] TF-TRT Warning: Could not find TensorRT\n"
     ]
    }
   ],
   "source": [
    "from bs4 import BeautifulSoup\n",
    "import requests\n",
    "import pytesseract\n",
    "import pdf2image\n",
    "import time\n",
    "import re\n",
    "from sklearn.model_selection import train_test_split\n",
    "import json\n",
    "import numpy as np\n",
    "from tensorflow.keras.preprocessing.text import Tokenizer\n",
    "from tensorflow.keras.preprocessing.sequence import pad_sequences\n",
    "import tensorflow as tf\n",
    "import matplotlib.pyplot as plt\n",
    "import os\n",
    "import pandas as pd"
   ]
  },
  {
   "cell_type": "code",
   "execution_count": 2,
   "id": "ddec5984-fd98-4052-b4cc-5e2d2da5739d",
   "metadata": {},
   "outputs": [],
   "source": [
    "# Configurações para que os modelo seja reproduzivel\n",
    "tf.keras.utils.set_random_seed(42)\n",
    "tf.config.experimental.enable_op_determinism()"
   ]
  },
  {
   "cell_type": "markdown",
   "id": "ff3fe47d-c107-485a-8c3b-df13b2b68c54",
   "metadata": {},
   "source": [
    "## Processamento de dados"
   ]
  },
  {
   "cell_type": "markdown",
   "id": "f5611d87-1fbb-41d2-b87d-b7d9cb8ddebd",
   "metadata": {},
   "source": [
    "Os dados consistem em PDFs com as resoluções do Departamento Nacional de Infraestrutura de Transportes - DNIT. Que podem ser encontrados em  https://www.gov.br/dnit/pt-br/central-de-conteudos/atos-normativos/tipo/recomendacoes .\n",
    "\n",
    "Para realizar a extração do texto foi utilizado a biblioteca em python [pdf2image](https://github.com/Belval/pdf2image) para converter os PDFs em images e então, realizar a extração do texto com uso do software [tesseract](https://github.com/tesseract-ocr/tesseract) com o uso do modelo pre treinado em portugues, com o auxilio da biblioteca [pytesseract](https://github.com/madmaze/pytesseract) ."
   ]
  },
  {
   "cell_type": "code",
   "execution_count": 3,
   "id": "0b77bbc6-d3d4-4404-aba6-a0f16b4705cf",
   "metadata": {},
   "outputs": [],
   "source": [
    "def pdf2string(url):\n",
    "    page = pdf2image.convert_from_bytes(requests.get(url).content, dpi=500)\n",
    "    return [pytesseract.image_to_string(p, lang='por').replace('\\n', ' ') for p in page]"
   ]
  },
  {
   "cell_type": "code",
   "execution_count": 4,
   "id": "017c7db1-600f-4c76-8e7f-4ffe6f88ff7b",
   "metadata": {},
   "outputs": [],
   "source": [
    "url = 'https://www.gov.br/dnit/pt-br/central-de-conteudos/atos-normativos/tipo/recomendacoes'\n",
    "response = requests.get(url)\n",
    "soup = BeautifulSoup(response.text, 'html.parser')"
   ]
  },
  {
   "cell_type": "code",
   "execution_count": 5,
   "id": "d80af322-1eec-4710-8e1a-8e45c1cc2f6d",
   "metadata": {},
   "outputs": [],
   "source": [
    "data = []\n",
    "for i in soup.find_all(id='content-core'):\n",
    "    for j in i.find_all('li'):\n",
    "        link = j.find('a')['href']\n",
    "        pdf = {'title': j.text,\n",
    "               'link': link,\n",
    "               'text': pdf2string(link)}\n",
    "        data.append(pdf)"
   ]
  },
  {
   "cell_type": "code",
   "execution_count": 6,
   "id": "696db9c3-7d62-4b5c-9c44-bc1c6ba10064",
   "metadata": {},
   "outputs": [],
   "source": [
    "prog = re.compile(r'(?=Ministério)(.*?)(?<=Finanças)(.*)') # tentar remover cabeçalho\n",
    "prog2 = re.compile(r'(.*)(?=PÁTRIA)')                      # tentar remover rodapé"
   ]
  },
  {
   "cell_type": "code",
   "execution_count": 7,
   "id": "a2c3dac1-c349-431e-a602-ee1abf46c60b",
   "metadata": {},
   "outputs": [],
   "source": [
    "# aplicar o regex no texto\n",
    "for i in data:\n",
    "    res = []\n",
    "    for j in i['text']:\n",
    "        try:\n",
    "            clean = prog.search(j).group(2)\n",
    "            try:\n",
    "                clean = prog2.search(clean).group(1)\n",
    "            except AttributeError:\n",
    "                pass\n",
    "        except AttributeError:\n",
    "            try:\n",
    "                clean = prog2.search(j).group(1)\n",
    "            except AttributeError:\n",
    "                clean = j\n",
    "        res.append(clean.strip())\n",
    "    i['clean'] = ''.join(res)"
   ]
  },
  {
   "cell_type": "code",
   "execution_count": 8,
   "id": "6f669878-57ed-4ee5-a175-6eece5dd306a",
   "metadata": {
    "scrolled": true
   },
   "outputs": [],
   "source": [
    "with open('data.json', 'w') as f:\n",
    "    json.dump(data, f)"
   ]
  },
  {
   "cell_type": "markdown",
   "id": "d0bac5b7-bb56-4306-b6e6-197b9ffdc99c",
   "metadata": {},
   "source": [
    "Como não possuia *labels* para fazer o treinamento, os *labels* foram pegos manualmente do arquivo Orientações acerca da emissão de bilhetes de aéreas e diárias para viagens a serviço, e das suas autorizações - REVOGADA pela Recomendação DAF nº 1/2020. Assim temos poucas observações para realizar o treinamento do modelo, portanto utilizaremos a superamostragem aleatória para gerar mais dados. Temos 3 *labels* sendo eles B-Lei para o começo da lei, I-Lei para palavras que compoem a entidade lei, B-Norm e I-Norm com significado análogo para as normas, as demais pavras recebem O.\n",
    "\n",
    "Para alimentar o modelo vamos dividir o texto em frases de 12 palavras e então fazer a tokenização do texto. E construido os dicionarios para converter os tokens e *labels* em palavras e vice-versa."
   ]
  },
  {
   "cell_type": "code",
   "execution_count": 9,
   "id": "c588dc04-408c-4487-a1a0-7e8295484e0f",
   "metadata": {},
   "outputs": [],
   "source": [
    "# divide o texto em frases de tamanho fixo\n",
    "def chunksList(list_, length):\n",
    "    return [list_[i:length + i] for i in range(0, len(list_), length)]"
   ]
  },
  {
   "cell_type": "code",
   "execution_count": 10,
   "id": "66cc1937-44f8-4023-ad63-f7e317b6f422",
   "metadata": {
    "jupyter": {
     "source_hidden": true
    }
   },
   "outputs": [],
   "source": [
    "data = json.load(open('data2.json', 'r'))\n",
    "\n",
    "labels = ['O' for i in range(len(data[24]['clean'].split(' ')))]\n",
    "\n",
    "labels[92] = 'B-Lei'\n",
    "labels[93] = 'I-Lei'\n",
    "\n",
    "labels[127] = 'B-Lei'\n",
    "labels[128] = 'I-Lei'\n",
    "labels[129] = 'I-Lei'\n",
    "\n",
    "labels[228] = 'B-Norm'\n",
    "labels[229] = 'I-Norm'\n",
    "labels[230] = 'I-Norm'\n",
    "\n",
    "labels[250] = 'B-Norm'\n",
    "labels[251] = 'I-Norm'\n",
    "labels[252] = 'I-Norm'\n",
    "\n",
    "labels[259] = 'B-Norm'\n",
    "labels[260] = 'I-Norm'\n",
    "labels[261] = 'I-Norm'\n",
    "\n",
    "labels[317] = 'B-Norm'\n",
    "labels[318] = 'I-Norm'\n",
    "labels[319] = 'I-Norm'\n",
    "\n",
    "labels[324] = 'B-Norm'\n",
    "labels[325] = 'I-Norm'\n",
    "labels[326] = 'I-Norm'\n",
    "\n",
    "labels[381] = 'B-Norm'\n",
    "labels[382] = 'I-Norm'\n",
    "labels[383] = 'I-Norm'\n",
    "\n",
    "labels[473] = 'B-Norm'\n",
    "labels[474] = 'I-Norm'\n",
    "labels[475] = 'I-Norm'\n",
    "\n",
    "labels[525] = 'B-Lei'\n",
    "labels[526] = 'I-Lei'\n",
    "labels[527] = 'I-Lei'\n",
    "\n",
    "labels[532] = 'B-Norm'\n",
    "labels[533] = 'I-Norm'\n",
    "labels[534] = 'I-Norm'\n",
    "\n",
    "text = data[24]['clean']"
   ]
  },
  {
   "cell_type": "code",
   "execution_count": 11,
   "id": "861cf068-50e7-4c83-9598-64a7e25e9010",
   "metadata": {
    "scrolled": true
   },
   "outputs": [],
   "source": [
    "max_len = 12\n",
    "\n",
    "X = chunksList(text.split(' '), max_len)\n",
    "y = chunksList(labels, max_len)\n",
    "\n",
    "df = pd.DataFrame({'x': X, 'y': y})\n",
    "\n",
    "df2 = df.sample(frac=0.5)\n",
    "\n",
    "dff = pd.concat([df, df2])\n",
    "\n",
    "X = dff['x']\n",
    "y = dff['y']"
   ]
  },
  {
   "cell_type": "code",
   "execution_count": 12,
   "id": "93df0619-8838-4da7-9f3a-d2d15f0121e7",
   "metadata": {},
   "outputs": [],
   "source": [
    "tokenizer = Tokenizer(oov_token='[UNK]')\n",
    "tokenizer.fit_on_texts(X)\n",
    "sequences = tokenizer.texts_to_sequences(X)\n",
    "\n",
    "word_to_id = tokenizer.word_index\n",
    "\n",
    "id_to_word = dict([(value, key) for (key, value) in word_to_id.items()])\n",
    "\n",
    "\n",
    "X = pad_sequences(sequences, maxlen=max_len, padding='post')\n",
    "\n",
    "tags = np.unique(labels)[::-1]\n",
    "\n",
    "id_to_tag = dict([(key, value) for (key, value) in enumerate(tags)])\n",
    "tag_to_id = dict([(key, value) for (value, key) in enumerate(tags)])\n",
    "\n",
    "\n",
    "Y = []\n",
    "for i in y:\n",
    "    aux = i\n",
    "    if len(y) < max_len:\n",
    "        while len(aux) < max_len:\n",
    "            aux.append('O')\n",
    "        Y.append([tag_to_id[j] for j in aux])\n",
    "    else:\n",
    "        Y.append([tag_to_id[j] for j in aux])\n",
    "\n",
    "X = np.asarray(X)\n",
    "Y = np.asarray(Y)\n",
    "\n",
    "training_samples = 0.7\n",
    "validation_samples = 0.15\n",
    "testing_samples = 0.15\n",
    "\n",
    "X_train, X_test, Y_train, Y_test = train_test_split(X, Y, test_size=0.15)\n",
    "\n",
    "X_train, X_val, Y_train, Y_val = train_test_split(X_train, Y_train, test_size=0.2)\n",
    "\n",
    "train_dataset = tf.data.Dataset.from_tensor_slices((X_train, Y_train))\n",
    "val_dataset = tf.data.Dataset.from_tensor_slices((X_val, Y_val))\n",
    "test_dataset = tf.data.Dataset.from_tensor_slices((X_test, Y_test))\n",
    "\n",
    "BATCH_SIZE = 4\n",
    "SHUFFLE_BUFFER_SIZE = 5\n",
    "\n",
    "train_dataset = train_dataset.shuffle(SHUFFLE_BUFFER_SIZE).batch(BATCH_SIZE)\n",
    "val_dataset = val_dataset.batch(BATCH_SIZE)\n",
    "test_dataset = test_dataset.batch(BATCH_SIZE)"
   ]
  },
  {
   "cell_type": "markdown",
   "id": "dd056ea2-513f-4278-892f-bd3ccbe77fb7",
   "metadata": {},
   "source": [
    "## Modelo"
   ]
  },
  {
   "cell_type": "markdown",
   "id": "77e71885-10b6-488a-a0d0-f823730000ce",
   "metadata": {},
   "source": [
    "Os hyperparametros escolhidos para que tenhamos um modelo pouco complexos pois nossos dados de teste são pequenos. O modelo consiste em uma camada de Embedding onde o número de palavras possíveis é 12, e a dimensionalidade dos vetores de embedding é 300. Duas camadas Bidirecionais LSTM com 100 unidades LSTM. Camada Dense (Totalmente Conectada) com número de unidades na camada Dense igual a quantidade de classes nos dados. A métrica utilizado foi a acurácia. O número de épocas escolhido foi 15, pois o aumento do número de épocas leva o modelo a superajustar aos dados e perder acurácia no conjunto de validação."
   ]
  },
  {
   "cell_type": "code",
   "execution_count": 13,
   "id": "1dfa5183-3371-4b9b-99ac-663497c21a02",
   "metadata": {
    "scrolled": true
   },
   "outputs": [],
   "source": [
    "embedding_dim = 300\n",
    "max_words = 1000\n",
    "num_tags = len(tags)\n",
    "\n",
    "model = tf.keras.models.Sequential([\n",
    "    tf.keras.layers.Embedding(max_words, embedding_dim),\n",
    "    tf.keras.layers.Bidirectional(tf.keras.layers.LSTM(100, return_sequences=True)),\n",
    "    tf.keras.layers.Bidirectional(tf.keras.layers.LSTM(100, return_sequences=True)),\n",
    "    tf.keras.layers.Dense(num_tags, activation='softmax'),\n",
    "])\n",
    "\n",
    "model.compile(loss='sparse_categorical_crossentropy',\n",
    "              optimizer='adam',\n",
    "              metrics=['accuracy'])\n",
    "\n",
    "history = model.fit(train_dataset,\n",
    "                    validation_data=val_dataset,\n",
    "                    epochs=15,\n",
    "                    verbose=0)"
   ]
  },
  {
   "cell_type": "markdown",
   "id": "8e809067-b4f1-4a2b-957e-e7c89d179e58",
   "metadata": {},
   "source": [
    "## Métricas"
   ]
  },
  {
   "cell_type": "code",
   "execution_count": 14,
   "id": "932d9109-7a44-40be-9324-dad7381388ff",
   "metadata": {},
   "outputs": [
    {
     "name": "stdout",
     "output_type": "stream",
     "text": [
      "Acurácia: 1\n",
      "Perda: 0.013\n"
     ]
    }
   ],
   "source": [
    "evaluation = model.evaluate(test_dataset, verbose=0)\n",
    "print('Acurácia: {0:.2g}'.format(evaluation[1]))\n",
    "print('Perda: {0:.2g}'.format(evaluation[0]))"
   ]
  },
  {
   "cell_type": "code",
   "execution_count": 15,
   "id": "fa57a9f2-15dd-42de-8e9b-fedec29c3fa4",
   "metadata": {},
   "outputs": [
    {
     "data": {
      "image/png": "[encoded data removed]",
      "text/plain": [
       "<Figure size 600x400 with 2 Axes>"
      ]
     },
     "metadata": {},
     "output_type": "display_data"
    }
   ],
   "source": [
    "accuracy = history.history['accuracy']\n",
    "val_accuracy = history.history['val_accuracy']\n",
    "\n",
    "loss = history.history['loss']\n",
    "val_loss = history.history['val_loss']\n",
    "\n",
    "epochs = range(1, len(accuracy) + 1)\n",
    "\n",
    "fig, ax = plt.subplots(1, 2, constrained_layout=True, figsize=(6, 4), dpi=100)\n",
    "\n",
    "ax[0].plot(epochs, accuracy, label='Acurácia(treino)')\n",
    "ax[0].plot(epochs, val_accuracy, label='Acurácia(validação)')\n",
    "ax[0].title.set_text('Treino vs Validação Acurácia')\n",
    "ax[0].fill_between(epochs, accuracy, val_accuracy, color='green', alpha=0.3)\n",
    "ax[0].legend()\n",
    "plt.setp(ax[0], xlabel='Épocas')\n",
    "plt.setp(ax[0], ylabel='Acurácia')\n",
    "\n",
    "\n",
    "ax[1].plot(epochs, loss, label='Perda(treino)')\n",
    "ax[1].plot(epochs, val_loss, label='Perda(validação)')\n",
    "ax[1].title.set_text('Treino vs Validação Perda')\n",
    "ax[1].fill_between(epochs,loss, val_loss, color='green', alpha=0.3)\n",
    "ax[1].legend()\n",
    "plt.setp(ax[1], xlabel='Épocas')\n",
    "plt.setp(ax[1], ylabel='Perda')\n",
    "\n",
    "plt.show()"
   ]
  },
  {
   "cell_type": "markdown",
   "id": "2d218615-fc17-4fa3-8e6a-72816c2aece3",
   "metadata": {},
   "source": [
    "## Resultados"
   ]
  },
  {
   "cell_type": "markdown",
   "id": "881d355c-8aa2-444b-91c7-7a99a9a9ac55",
   "metadata": {},
   "source": [
    "Testando o modelo com os demais textos podemos encontrar as frases onde possivelmente existem as entidades procuradas. Afim de melhorar o modelo podemos utilizar esta lista para gerar *labels* e treinar o modelo novamente para ter mais precisão na identificação."
   ]
  },
  {
   "cell_type": "code",
   "execution_count": 16,
   "id": "ed44737d-e0f8-4b57-858f-ce508c4e693c",
   "metadata": {},
   "outputs": [],
   "source": [
    "aux_data = data\n",
    "del aux_data[25]"
   ]
  },
  {
   "cell_type": "code",
   "execution_count": 17,
   "id": "4dab5834-3475-4fe6-86a9-3c9e2d6272ef",
   "metadata": {},
   "outputs": [],
   "source": [
    "corpus = ''\n",
    "for i in aux_data:\n",
    "    corpus += i['clean']"
   ]
  },
  {
   "cell_type": "code",
   "execution_count": 18,
   "id": "fcb87b23-c3ab-44ad-9648-3236f19af5d4",
   "metadata": {},
   "outputs": [],
   "source": [
    "tokens = []\n",
    "orig = []\n",
    "for i in chunksList(corpus.split(' '), 12):\n",
    "    res = []\n",
    "    for j in i:\n",
    "        try:\n",
    "            res.append(word_to_id[j])\n",
    "        except KeyError:\n",
    "            res.append(0)\n",
    "    if len(res) < max_len:\n",
    "        while len(res) < max_len:\n",
    "            res.append(0)\n",
    "    tokens.append(res)\n",
    "    orig.append(i)"
   ]
  },
  {
   "cell_type": "code",
   "execution_count": 19,
   "id": "4c9290ac-47c6-48bc-8924-5697f6ce110c",
   "metadata": {},
   "outputs": [],
   "source": [
    "df = pd.DataFrame({'orig': orig, 'tokens': tokens})"
   ]
  },
  {
   "cell_type": "code",
   "execution_count": 20,
   "id": "1bba3043-8e0e-4c3d-ba6a-e6d67e3ead9d",
   "metadata": {},
   "outputs": [],
   "source": [
    "predicts = []\n",
    "for i in df['tokens']:\n",
    "    predictions = model.predict(np.array(i).reshape(1, 12), verbose=0)\n",
    "    predictions = np.argmax(predictions[0], axis=1)\n",
    "    predicts.append([id_to_tag[j] for j in predictions])"
   ]
  },
  {
   "cell_type": "code",
   "execution_count": 21,
   "id": "ecfaecf9-3f7c-4efa-9fd2-e3500c361988",
   "metadata": {},
   "outputs": [],
   "source": [
    "df['predictions'] = predicts"
   ]
  },
  {
   "cell_type": "code",
   "execution_count": 22,
   "id": "3bdccc4c-9d81-439d-bae1-a298672b20eb",
   "metadata": {},
   "outputs": [],
   "source": [
    "df['flag'] = df['predictions'].apply(lambda x: any([i != 'O' for i in x]))"
   ]
  },
  {
   "cell_type": "code",
   "execution_count": 23,
   "id": "39a565a6-0804-4169-ac93-eaaeb2550d42",
   "metadata": {},
   "outputs": [
    {
     "data": {
      "text/html": [
       "<div>\n",
       "<style scoped>\n",
       "    .dataframe tbody tr th:only-of-type {\n",
       "        vertical-align: middle;\n",
       "    }\n",
       "\n",
       "    .dataframe tbody tr th {\n",
       "        vertical-align: top;\n",
       "    }\n",
       "\n",
       "    .dataframe thead th {\n",
       "        text-align: right;\n",
       "    }\n",
       "</style>\n",
       "<table border=\"1\" class=\"dataframe\">\n",
       "  <thead>\n",
       "    <tr style=\"text-align: right;\">\n",
       "      <th></th>\n",
       "      <th>orig</th>\n",
       "      <th>tokens</th>\n",
       "      <th>predictions</th>\n",
       "      <th>flag</th>\n",
       "    </tr>\n",
       "  </thead>\n",
       "  <tbody>\n",
       "    <tr>\n",
       "      <th>17</th>\n",
       "      <td>[nº, 2746/2015/TCU-Plenário,, que, dispõe, sob...</td>\n",
       "      <td>[9, 0, 12, 290, 0, 7, 0, 2, 0, 0, 75, 0]</td>\n",
       "      <td>[I-Norm, O, O, O, O, O, O, O, O, O, O, O]</td>\n",
       "      <td>True</td>\n",
       "    </tr>\n",
       "    <tr>\n",
       "      <th>59</th>\n",
       "      <td>[Leis, Federais, nº, 8.666/93,, Lei, nº, 10.52...</td>\n",
       "      <td>[0, 0, 9, 0, 0, 9, 0, 6, 0, 0, 3, 0]</td>\n",
       "      <td>[O, O, B-Norm, O, O, I-Norm, O, O, O, O, O, O]</td>\n",
       "      <td>True</td>\n",
       "    </tr>\n",
       "    <tr>\n",
       "      <th>61</th>\n",
       "      <td>[nº, 01., Os, demais, normativos, que, versam,...</td>\n",
       "      <td>[9, 0, 0, 0, 378, 12, 0, 0, 7, 0, 0, 0]</td>\n",
       "      <td>[I-Norm, O, O, O, O, O, O, O, O, O, O, O]</td>\n",
       "      <td>True</td>\n",
       "    </tr>\n",
       "    <tr>\n",
       "      <th>69</th>\n",
       "      <td>[Sera:, a), b), C), , d), , E), , E), , Conforme]</td>\n",
       "      <td>[0, 133, 141, 0, 3, 153, 3, 0, 3, 0, 3, 0]</td>\n",
       "      <td>[B-Norm, O, O, O, O, O, O, O, O, O, O, O]</td>\n",
       "      <td>True</td>\n",
       "    </tr>\n",
       "    <tr>\n",
       "      <th>179</th>\n",
       "      <td>[aplicada,, o, legislador,, no, artigo, 80,, i...</td>\n",
       "      <td>[0, 7, 0, 15, 0, 0, 346, 0, 4, 0, 0, 0]</td>\n",
       "      <td>[O, O, O, O, O, O, O, O, O, O, O, I-Norm]</td>\n",
       "      <td>True</td>\n",
       "    </tr>\n",
       "    <tr>\n",
       "      <th>...</th>\n",
       "      <td>...</td>\n",
       "      <td>...</td>\n",
       "      <td>...</td>\n",
       "      <td>...</td>\n",
       "    </tr>\n",
       "    <tr>\n",
       "      <th>2069</th>\n",
       "      <td>[do, Decreto, nº, 7.689/2012, c/c, o, art., 18...</td>\n",
       "      <td>[5, 0, 9, 332, 83, 7, 17, 0, 4, 0, 9, 334]</td>\n",
       "      <td>[O, O, O, O, O, O, O, O, O, O, I-Norm, I-Norm]</td>\n",
       "      <td>True</td>\n",
       "    </tr>\n",
       "    <tr>\n",
       "      <th>2073</th>\n",
       "      <td>[embarque,, atendendo, ao, art., 70, da, CF/88...</td>\n",
       "      <td>[340, 341, 10, 17, 342, 4, 0, 344, 17, 345, 34...</td>\n",
       "      <td>[O, O, O, O, O, O, O, O, O, O, O, I-Norm]</td>\n",
       "      <td>True</td>\n",
       "    </tr>\n",
       "    <tr>\n",
       "      <th>2074</th>\n",
       "      <td>[da, Lei, nº, 8.429/1992, c/c, art., 19, da, I...</td>\n",
       "      <td>[4, 0, 9, 348, 83, 17, 178, 4, 0, 9, 180, 3]</td>\n",
       "      <td>[O, O, O, O, O, O, O, O, B-Norm, I-Norm, I-Nor...</td>\n",
       "      <td>True</td>\n",
       "    </tr>\n",
       "    <tr>\n",
       "      <th>2128</th>\n",
       "      <td>[Ressalte-se, que, o, parágrafo, 3º, do, Art.,...</td>\n",
       "      <td>[0, 12, 7, 0, 0, 5, 0, 0, 4, 0, 9, 0]</td>\n",
       "      <td>[O, O, O, O, O, O, O, O, O, O, B-Norm, I-Norm]</td>\n",
       "      <td>True</td>\n",
       "    </tr>\n",
       "    <tr>\n",
       "      <th>2131</th>\n",
       "      <td>[Art., 145, da, Lei, nº, 13.898/2019, (LDO):, ...</td>\n",
       "      <td>[0, 0, 4, 0, 9, 0, 0, 3, 0, 0, 0, 0]</td>\n",
       "      <td>[O, O, O, B-Norm, I-Norm, I-Norm, O, O, O, O, ...</td>\n",
       "      <td>True</td>\n",
       "    </tr>\n",
       "  </tbody>\n",
       "</table>\n",
       "<p>61 rows × 4 columns</p>\n",
       "</div>"
      ],
      "text/plain": [
       "                                                   orig  \\\n",
       "17    [nº, 2746/2015/TCU-Plenário,, que, dispõe, sob...   \n",
       "59    [Leis, Federais, nº, 8.666/93,, Lei, nº, 10.52...   \n",
       "61    [nº, 01., Os, demais, normativos, que, versam,...   \n",
       "69    [Sera:, a), b), C), , d), , E), , E), , Conforme]   \n",
       "179   [aplicada,, o, legislador,, no, artigo, 80,, i...   \n",
       "...                                                 ...   \n",
       "2069  [do, Decreto, nº, 7.689/2012, c/c, o, art., 18...   \n",
       "2073  [embarque,, atendendo, ao, art., 70, da, CF/88...   \n",
       "2074  [da, Lei, nº, 8.429/1992, c/c, art., 19, da, I...   \n",
       "2128  [Ressalte-se, que, o, parágrafo, 3º, do, Art.,...   \n",
       "2131  [Art., 145, da, Lei, nº, 13.898/2019, (LDO):, ...   \n",
       "\n",
       "                                                 tokens  \\\n",
       "17             [9, 0, 12, 290, 0, 7, 0, 2, 0, 0, 75, 0]   \n",
       "59                 [0, 0, 9, 0, 0, 9, 0, 6, 0, 0, 3, 0]   \n",
       "61              [9, 0, 0, 0, 378, 12, 0, 0, 7, 0, 0, 0]   \n",
       "69           [0, 133, 141, 0, 3, 153, 3, 0, 3, 0, 3, 0]   \n",
       "179             [0, 7, 0, 15, 0, 0, 346, 0, 4, 0, 0, 0]   \n",
       "...                                                 ...   \n",
       "2069         [5, 0, 9, 332, 83, 7, 17, 0, 4, 0, 9, 334]   \n",
       "2073  [340, 341, 10, 17, 342, 4, 0, 344, 17, 345, 34...   \n",
       "2074       [4, 0, 9, 348, 83, 17, 178, 4, 0, 9, 180, 3]   \n",
       "2128              [0, 12, 7, 0, 0, 5, 0, 0, 4, 0, 9, 0]   \n",
       "2131               [0, 0, 4, 0, 9, 0, 0, 3, 0, 0, 0, 0]   \n",
       "\n",
       "                                            predictions  flag  \n",
       "17            [I-Norm, O, O, O, O, O, O, O, O, O, O, O]  True  \n",
       "59       [O, O, B-Norm, O, O, I-Norm, O, O, O, O, O, O]  True  \n",
       "61            [I-Norm, O, O, O, O, O, O, O, O, O, O, O]  True  \n",
       "69            [B-Norm, O, O, O, O, O, O, O, O, O, O, O]  True  \n",
       "179           [O, O, O, O, O, O, O, O, O, O, O, I-Norm]  True  \n",
       "...                                                 ...   ...  \n",
       "2069     [O, O, O, O, O, O, O, O, O, O, I-Norm, I-Norm]  True  \n",
       "2073          [O, O, O, O, O, O, O, O, O, O, O, I-Norm]  True  \n",
       "2074  [O, O, O, O, O, O, O, O, B-Norm, I-Norm, I-Nor...  True  \n",
       "2128     [O, O, O, O, O, O, O, O, O, O, B-Norm, I-Norm]  True  \n",
       "2131  [O, O, O, B-Norm, I-Norm, I-Norm, O, O, O, O, ...  True  \n",
       "\n",
       "[61 rows x 4 columns]"
      ]
     },
     "execution_count": 23,
     "metadata": {},
     "output_type": "execute_result"
    }
   ],
   "source": [
    "df.loc[df['flag'] == True]"
   ]
  }
 ],
 "metadata": {
  "kernelspec": {
   "display_name": "Python 3 (ipykernel)",
   "language": "python",
   "name": "python3"
  },
  "language_info": {
   "codemirror_mode": {
    "name": "ipython",
    "version": 3
   },
   "file_extension": ".py",
   "mimetype": "text/x-python",
   "name": "python",
   "nbconvert_exporter": "python",
   "pygments_lexer": "ipython3",
   "version": "3.12.3"
  }
 },
 "nbformat": 4,
 "nbformat_minor": 5
}
